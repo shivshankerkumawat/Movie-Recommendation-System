{
 "cells": [
  {
   "cell_type": "code",
   "execution_count": 19,
   "metadata": {},
   "outputs": [],
   "source": [
    "#importing libraries\n",
    "import math\n",
    "import pandas as pd\n",
    "import matplotlib.pyplot as plt\n",
    "import seaborn as sns\n",
    "import plotly_express as px\n",
    "from sklearn.feature_extraction.text import CountVectorizer\n",
    "from sklearn.metrics.pairwise import cosine_similarity"
   ]
  },
  {
   "cell_type": "code",
   "execution_count": 20,
   "metadata": {},
   "outputs": [
    {
     "data": {
      "text/html": [
       "<div>\n",
       "<style scoped>\n",
       "    .dataframe tbody tr th:only-of-type {\n",
       "        vertical-align: middle;\n",
       "    }\n",
       "\n",
       "    .dataframe tbody tr th {\n",
       "        vertical-align: top;\n",
       "    }\n",
       "\n",
       "    .dataframe thead th {\n",
       "        text-align: right;\n",
       "    }\n",
       "</style>\n",
       "<table border=\"1\" class=\"dataframe\">\n",
       "  <thead>\n",
       "    <tr style=\"text-align: right;\">\n",
       "      <th></th>\n",
       "      <th>Genre</th>\n",
       "      <th>Tags</th>\n",
       "      <th>Languages</th>\n",
       "      <th>Country Availability</th>\n",
       "      <th>Runtime</th>\n",
       "      <th>Director</th>\n",
       "      <th>Writer</th>\n",
       "      <th>Actors</th>\n",
       "      <th>View Rating</th>\n",
       "      <th>IMDb Score</th>\n",
       "      <th>...</th>\n",
       "      <th>Awards Nominated For</th>\n",
       "      <th>Boxoffice</th>\n",
       "      <th>Release Date</th>\n",
       "      <th>Netflix Release Date</th>\n",
       "      <th>Production House</th>\n",
       "      <th>Netflix Link</th>\n",
       "      <th>Summary</th>\n",
       "      <th>Series or Movie</th>\n",
       "      <th>IMDb Votes</th>\n",
       "      <th>Image</th>\n",
       "    </tr>\n",
       "    <tr>\n",
       "      <th>Title</th>\n",
       "      <th></th>\n",
       "      <th></th>\n",
       "      <th></th>\n",
       "      <th></th>\n",
       "      <th></th>\n",
       "      <th></th>\n",
       "      <th></th>\n",
       "      <th></th>\n",
       "      <th></th>\n",
       "      <th></th>\n",
       "      <th></th>\n",
       "      <th></th>\n",
       "      <th></th>\n",
       "      <th></th>\n",
       "      <th></th>\n",
       "      <th></th>\n",
       "      <th></th>\n",
       "      <th></th>\n",
       "      <th></th>\n",
       "      <th></th>\n",
       "      <th></th>\n",
       "    </tr>\n",
       "  </thead>\n",
       "  <tbody>\n",
       "    <tr>\n",
       "      <th>Lets Fight Ghost</th>\n",
       "      <td>Crime, Drama, Fantasy, Horror, Romance</td>\n",
       "      <td>Comedy Programmes,Romantic TV Comedies,Horror ...</td>\n",
       "      <td>Swedish, Spanish</td>\n",
       "      <td>Thailand</td>\n",
       "      <td>&lt; 30 minutes</td>\n",
       "      <td>Tomas Alfredson</td>\n",
       "      <td>John Ajvide Lindqvist</td>\n",
       "      <td>Lina Leandersson, Kåre Hedebrant, Per Ragnar, ...</td>\n",
       "      <td>R</td>\n",
       "      <td>7.9</td>\n",
       "      <td>...</td>\n",
       "      <td>57.0</td>\n",
       "      <td>$21,22,065</td>\n",
       "      <td>12-Dec-08</td>\n",
       "      <td>04-03-2021</td>\n",
       "      <td>Canal+, Sandrew Metronome</td>\n",
       "      <td>https://www.netflix.com/watch/81415947</td>\n",
       "      <td>A med student with a supernatural gift tries t...</td>\n",
       "      <td>Series</td>\n",
       "      <td>205926.0</td>\n",
       "      <td>https://occ-0-4708-64.1.nflxso.net/dnm/api/v6/...</td>\n",
       "    </tr>\n",
       "    <tr>\n",
       "      <th>HOW TO BUILD A GIRL</th>\n",
       "      <td>Comedy</td>\n",
       "      <td>Dramas,Comedies,Films Based on Books,British</td>\n",
       "      <td>English</td>\n",
       "      <td>Canada</td>\n",
       "      <td>1-2 hour</td>\n",
       "      <td>Coky Giedroyc</td>\n",
       "      <td>Caitlin Moran</td>\n",
       "      <td>Cleo, Paddy Considine, Beanie Feldstein, Dónal...</td>\n",
       "      <td>R</td>\n",
       "      <td>5.8</td>\n",
       "      <td>...</td>\n",
       "      <td>NaN</td>\n",
       "      <td>$70,632</td>\n",
       "      <td>08-May-20</td>\n",
       "      <td>04-03-2021</td>\n",
       "      <td>Film 4, Monumental Pictures, Lionsgate</td>\n",
       "      <td>https://www.netflix.com/watch/81041267</td>\n",
       "      <td>When nerdy Johanna moves to London, things get...</td>\n",
       "      <td>Movie</td>\n",
       "      <td>2838.0</td>\n",
       "      <td>https://occ-0-1081-999.1.nflxso.net/dnm/api/v6...</td>\n",
       "    </tr>\n",
       "    <tr>\n",
       "      <th>The Con-Heartist</th>\n",
       "      <td>Comedy, Romance</td>\n",
       "      <td>Romantic Comedies,Comedies,Romantic Films,Thai...</td>\n",
       "      <td>Thai</td>\n",
       "      <td>Thailand</td>\n",
       "      <td>&gt; 2 hrs</td>\n",
       "      <td>Mez Tharatorn</td>\n",
       "      <td>Pattaranad Bhiboonsawade, Mez Tharatorn, Thods...</td>\n",
       "      <td>Kathaleeya McIntosh, Nadech Kugimiya, Pimchano...</td>\n",
       "      <td>NaN</td>\n",
       "      <td>7.4</td>\n",
       "      <td>...</td>\n",
       "      <td>NaN</td>\n",
       "      <td>NaN</td>\n",
       "      <td>03-Dec-20</td>\n",
       "      <td>03-03-2021</td>\n",
       "      <td>NaN</td>\n",
       "      <td>https://www.netflix.com/watch/81306155</td>\n",
       "      <td>After her ex-boyfriend cons her out of a large...</td>\n",
       "      <td>Movie</td>\n",
       "      <td>131.0</td>\n",
       "      <td>https://occ-0-2188-64.1.nflxso.net/dnm/api/v6/...</td>\n",
       "    </tr>\n",
       "    <tr>\n",
       "      <th>Gleboka woda</th>\n",
       "      <td>Drama</td>\n",
       "      <td>TV Dramas,Polish TV Shows,Social Issue TV Dramas</td>\n",
       "      <td>Polish</td>\n",
       "      <td>Poland</td>\n",
       "      <td>&lt; 30 minutes</td>\n",
       "      <td>NaN</td>\n",
       "      <td>NaN</td>\n",
       "      <td>Katarzyna Maciag, Piotr Nowak, Marcin Dorocins...</td>\n",
       "      <td>NaN</td>\n",
       "      <td>7.5</td>\n",
       "      <td>...</td>\n",
       "      <td>4.0</td>\n",
       "      <td>NaN</td>\n",
       "      <td>14-Jun-11</td>\n",
       "      <td>03-03-2021</td>\n",
       "      <td>NaN</td>\n",
       "      <td>https://www.netflix.com/watch/81307527</td>\n",
       "      <td>A group of social welfare workers led by their...</td>\n",
       "      <td>Series</td>\n",
       "      <td>47.0</td>\n",
       "      <td>https://occ-0-2508-2706.1.nflxso.net/dnm/api/v...</td>\n",
       "    </tr>\n",
       "    <tr>\n",
       "      <th>Only a Mother</th>\n",
       "      <td>Drama</td>\n",
       "      <td>Social Issue Dramas,Dramas,Movies Based on Boo...</td>\n",
       "      <td>Swedish</td>\n",
       "      <td>Lithuania,Poland,France,Italy,Spain,Greece,Bel...</td>\n",
       "      <td>1-2 hour</td>\n",
       "      <td>Alf Sjöberg</td>\n",
       "      <td>Ivar Lo-Johansson</td>\n",
       "      <td>Hugo Björne, Eva Dahlbeck, Ulf Palme, Ragnar F...</td>\n",
       "      <td>NaN</td>\n",
       "      <td>6.7</td>\n",
       "      <td>...</td>\n",
       "      <td>1.0</td>\n",
       "      <td>NaN</td>\n",
       "      <td>31-Oct-49</td>\n",
       "      <td>03-03-2021</td>\n",
       "      <td>NaN</td>\n",
       "      <td>https://www.netflix.com/watch/81382068</td>\n",
       "      <td>An unhappily married farm worker struggling to...</td>\n",
       "      <td>Movie</td>\n",
       "      <td>88.0</td>\n",
       "      <td>https://occ-0-2851-41.1.nflxso.net/dnm/api/v6/...</td>\n",
       "    </tr>\n",
       "  </tbody>\n",
       "</table>\n",
       "<p>5 rows × 21 columns</p>\n",
       "</div>"
      ],
      "text/plain": [
       "                                                      Genre  \\\n",
       "Title                                                         \n",
       "Lets Fight Ghost     Crime, Drama, Fantasy, Horror, Romance   \n",
       "HOW TO BUILD A GIRL                                  Comedy   \n",
       "The Con-Heartist                            Comedy, Romance   \n",
       "Gleboka woda                                          Drama   \n",
       "Only a Mother                                         Drama   \n",
       "\n",
       "                                                                  Tags  \\\n",
       "Title                                                                    \n",
       "Lets Fight Ghost     Comedy Programmes,Romantic TV Comedies,Horror ...   \n",
       "HOW TO BUILD A GIRL       Dramas,Comedies,Films Based on Books,British   \n",
       "The Con-Heartist     Romantic Comedies,Comedies,Romantic Films,Thai...   \n",
       "Gleboka woda          TV Dramas,Polish TV Shows,Social Issue TV Dramas   \n",
       "Only a Mother        Social Issue Dramas,Dramas,Movies Based on Boo...   \n",
       "\n",
       "                            Languages  \\\n",
       "Title                                   \n",
       "Lets Fight Ghost     Swedish, Spanish   \n",
       "HOW TO BUILD A GIRL           English   \n",
       "The Con-Heartist                 Thai   \n",
       "Gleboka woda                   Polish   \n",
       "Only a Mother                 Swedish   \n",
       "\n",
       "                                                  Country Availability  \\\n",
       "Title                                                                    \n",
       "Lets Fight Ghost                                              Thailand   \n",
       "HOW TO BUILD A GIRL                                             Canada   \n",
       "The Con-Heartist                                              Thailand   \n",
       "Gleboka woda                                                    Poland   \n",
       "Only a Mother        Lithuania,Poland,France,Italy,Spain,Greece,Bel...   \n",
       "\n",
       "                          Runtime         Director  \\\n",
       "Title                                                \n",
       "Lets Fight Ghost     < 30 minutes  Tomas Alfredson   \n",
       "HOW TO BUILD A GIRL      1-2 hour    Coky Giedroyc   \n",
       "The Con-Heartist          > 2 hrs    Mez Tharatorn   \n",
       "Gleboka woda         < 30 minutes              NaN   \n",
       "Only a Mother            1-2 hour      Alf Sjöberg   \n",
       "\n",
       "                                                                Writer  \\\n",
       "Title                                                                    \n",
       "Lets Fight Ghost                                 John Ajvide Lindqvist   \n",
       "HOW TO BUILD A GIRL                                      Caitlin Moran   \n",
       "The Con-Heartist     Pattaranad Bhiboonsawade, Mez Tharatorn, Thods...   \n",
       "Gleboka woda                                                       NaN   \n",
       "Only a Mother                                        Ivar Lo-Johansson   \n",
       "\n",
       "                                                                Actors  \\\n",
       "Title                                                                    \n",
       "Lets Fight Ghost     Lina Leandersson, Kåre Hedebrant, Per Ragnar, ...   \n",
       "HOW TO BUILD A GIRL  Cleo, Paddy Considine, Beanie Feldstein, Dónal...   \n",
       "The Con-Heartist     Kathaleeya McIntosh, Nadech Kugimiya, Pimchano...   \n",
       "Gleboka woda         Katarzyna Maciag, Piotr Nowak, Marcin Dorocins...   \n",
       "Only a Mother        Hugo Björne, Eva Dahlbeck, Ulf Palme, Ragnar F...   \n",
       "\n",
       "                    View Rating  IMDb Score  ...  Awards Nominated For  \\\n",
       "Title                                        ...                         \n",
       "Lets Fight Ghost              R         7.9  ...                  57.0   \n",
       "HOW TO BUILD A GIRL           R         5.8  ...                   NaN   \n",
       "The Con-Heartist            NaN         7.4  ...                   NaN   \n",
       "Gleboka woda                NaN         7.5  ...                   4.0   \n",
       "Only a Mother               NaN         6.7  ...                   1.0   \n",
       "\n",
       "                      Boxoffice Release Date Netflix Release Date  \\\n",
       "Title                                                               \n",
       "Lets Fight Ghost     $21,22,065    12-Dec-08           04-03-2021   \n",
       "HOW TO BUILD A GIRL     $70,632    08-May-20           04-03-2021   \n",
       "The Con-Heartist            NaN    03-Dec-20           03-03-2021   \n",
       "Gleboka woda                NaN    14-Jun-11           03-03-2021   \n",
       "Only a Mother               NaN    31-Oct-49           03-03-2021   \n",
       "\n",
       "                                           Production House  \\\n",
       "Title                                                         \n",
       "Lets Fight Ghost                  Canal+, Sandrew Metronome   \n",
       "HOW TO BUILD A GIRL  Film 4, Monumental Pictures, Lionsgate   \n",
       "The Con-Heartist                                        NaN   \n",
       "Gleboka woda                                            NaN   \n",
       "Only a Mother                                           NaN   \n",
       "\n",
       "                                               Netflix Link  \\\n",
       "Title                                                         \n",
       "Lets Fight Ghost     https://www.netflix.com/watch/81415947   \n",
       "HOW TO BUILD A GIRL  https://www.netflix.com/watch/81041267   \n",
       "The Con-Heartist     https://www.netflix.com/watch/81306155   \n",
       "Gleboka woda         https://www.netflix.com/watch/81307527   \n",
       "Only a Mother        https://www.netflix.com/watch/81382068   \n",
       "\n",
       "                                                               Summary  \\\n",
       "Title                                                                    \n",
       "Lets Fight Ghost     A med student with a supernatural gift tries t...   \n",
       "HOW TO BUILD A GIRL  When nerdy Johanna moves to London, things get...   \n",
       "The Con-Heartist     After her ex-boyfriend cons her out of a large...   \n",
       "Gleboka woda         A group of social welfare workers led by their...   \n",
       "Only a Mother        An unhappily married farm worker struggling to...   \n",
       "\n",
       "                    Series or Movie IMDb Votes  \\\n",
       "Title                                            \n",
       "Lets Fight Ghost             Series   205926.0   \n",
       "HOW TO BUILD A GIRL           Movie     2838.0   \n",
       "The Con-Heartist              Movie      131.0   \n",
       "Gleboka woda                 Series       47.0   \n",
       "Only a Mother                 Movie       88.0   \n",
       "\n",
       "                                                                 Image  \n",
       "Title                                                                   \n",
       "Lets Fight Ghost     https://occ-0-4708-64.1.nflxso.net/dnm/api/v6/...  \n",
       "HOW TO BUILD A GIRL  https://occ-0-1081-999.1.nflxso.net/dnm/api/v6...  \n",
       "The Con-Heartist     https://occ-0-2188-64.1.nflxso.net/dnm/api/v6/...  \n",
       "Gleboka woda         https://occ-0-2508-2706.1.nflxso.net/dnm/api/v...  \n",
       "Only a Mother        https://occ-0-2851-41.1.nflxso.net/dnm/api/v6/...  \n",
       "\n",
       "[5 rows x 21 columns]"
      ]
     },
     "execution_count": 20,
     "metadata": {},
     "output_type": "execute_result"
    }
   ],
   "source": [
    "netflix_data = pd.read_csv('NetflixDataset.csv',encoding='latin-1', index_col = 'Title')\n",
    "netflix_data.head(5)"
   ]
  },
  {
   "cell_type": "code",
   "execution_count": 21,
   "metadata": {},
   "outputs": [],
   "source": [
    "\n",
    "netflix_data.index = netflix_data.index.str.title()"
   ]
  },
  {
   "cell_type": "code",
   "execution_count": 22,
   "metadata": {},
   "outputs": [
    {
     "data": {
      "image/png": "[encoded data removed]",
      "text/plain": [
       "<Figure size 640x480 with 1 Axes>"
      ]
     },
     "metadata": {},
     "output_type": "display_data"
    }
   ],
   "source": [
    "\n",
    "color = ['blue', 'yellow']\n",
    "label = ['Series', 'Movies']\n",
    "sizes = [netflix_data[netflix_data['Series or Movie'] == 'Series'].size, netflix_data[netflix_data['Series or Movie'] == 'Movie'].size]\n",
    "explode = (0.1, 0)\n",
    "fig, ax = plt.subplots()\n",
    "ax.pie(sizes, explode, label, color, '%2.2f%%')\n",
    "plt.show()"
   ]
  },
  {
   "cell_type": "code",
   "execution_count": 23,
   "metadata": {},
   "outputs": [],
   "source": [
    "netflix_data.rename(columns={'View Rating':'ViewerRating'}, inplace=True)"
   ]
  },
  {
   "cell_type": "code",
   "execution_count": 24,
   "metadata": {},
   "outputs": [
    {
     "name": "stdout",
     "output_type": "stream",
     "text": [
      "184\n"
     ]
    }
   ],
   "source": [
    "# Language = netflix_data.Languages.str.get_dummies(',')\n",
    "# Lang = Language.columns.str.strip().values.tolist()\n",
    "# Language = netflix_data['Languages']\n",
    "# Language_Count = dict()\n",
    "# for i in Lang:\n",
    "#     p = Language.str.count(i).sum()\n",
    "#     Language_Count[i] = int(p)\n",
    "# print(len(Language_Count))\n",
    "\n",
    "language_list = netflix_data['Languages'].dropna().str.split(',')\n",
    "\n",
    "#dictionary to store the count of lang\n",
    "Language_Count = {}\n",
    "\n",
    "# Looping through thr each row & count frequency of each lang\n",
    "for languages in language_list:\n",
    "    for language in languages:\n",
    "        language = language.strip()  \n",
    "        if language in Language_Count:\n",
    "            Language_Count[language] += 1\n",
    "        else:\n",
    "            Language_Count[language] = 1\n",
    "\n",
    "\n",
    "print(len(Language_Count))\n"
   ]
  },
  {
   "cell_type": "code",
   "execution_count": 25,
   "metadata": {},
   "outputs": [],
   "source": [
    "Language_Count = {k: v for k, v in sorted(Language_Count.items(), key=lambda item: item[1], reverse = True)}\n",
    "\n",
    "top_languages = {\"Languages\": list(Language_Count.keys()), \"Count\": list(Language_Count.values())}\n",
    "\n",
    "\n"
   ]
  },
  {
   "cell_type": "code",
   "execution_count": 26,
   "metadata": {},
   "outputs": [
    {
     "ename": "ValueError",
     "evalue": "Could not interpret value `imdb_score` for `y`. An entry with this name does not appear in `data`.",
     "output_type": "error",
     "traceback": [
      "\u001b[1;31m---------------------------------------------------------------------------\u001b[0m",
      "\u001b[1;31mValueError\u001b[0m                                Traceback (most recent call last)",
      "Cell \u001b[1;32mIn[26], line 32\u001b[0m\n\u001b[0;32m     30\u001b[0m \u001b[38;5;66;03m# Plotting the boxplot\u001b[39;00m\n\u001b[0;32m     31\u001b[0m plt\u001b[38;5;241m.\u001b[39mfigure(figsize\u001b[38;5;241m=\u001b[39m(\u001b[38;5;241m10\u001b[39m, \u001b[38;5;241m6\u001b[39m))\n\u001b[1;32m---> 32\u001b[0m \u001b[43msns\u001b[49m\u001b[38;5;241;43m.\u001b[39;49m\u001b[43mboxplot\u001b[49m\u001b[43m(\u001b[49m\u001b[43mx\u001b[49m\u001b[38;5;241;43m=\u001b[39;49m\u001b[38;5;124;43m'\u001b[39;49m\u001b[38;5;124;43mGenre\u001b[39;49m\u001b[38;5;124;43m'\u001b[39;49m\u001b[43m,\u001b[49m\u001b[43m \u001b[49m\u001b[43my\u001b[49m\u001b[38;5;241;43m=\u001b[39;49m\u001b[38;5;124;43m'\u001b[39;49m\u001b[38;5;124;43mimdb_score\u001b[39;49m\u001b[38;5;124;43m'\u001b[39;49m\u001b[43m,\u001b[49m\u001b[43m \u001b[49m\u001b[43mdata\u001b[49m\u001b[38;5;241;43m=\u001b[39;49m\u001b[43mnetflix_data\u001b[49m\u001b[43m)\u001b[49m\n\u001b[0;32m     33\u001b[0m plt\u001b[38;5;241m.\u001b[39mxticks(rotation\u001b[38;5;241m=\u001b[39m\u001b[38;5;241m90\u001b[39m)\n\u001b[0;32m     34\u001b[0m plt\u001b[38;5;241m.\u001b[39mtitle(\u001b[38;5;124m'\u001b[39m\u001b[38;5;124mGenre Distribution by IMDb Ratings\u001b[39m\u001b[38;5;124m'\u001b[39m)\n",
      "File \u001b[1;32mc:\\Users\\kumaw\\AppData\\Local\\Programs\\Python\\Python312\\Lib\\site-packages\\seaborn\\categorical.py:1597\u001b[0m, in \u001b[0;36mboxplot\u001b[1;34m(data, x, y, hue, order, hue_order, orient, color, palette, saturation, fill, dodge, width, gap, whis, linecolor, linewidth, fliersize, hue_norm, native_scale, log_scale, formatter, legend, ax, **kwargs)\u001b[0m\n\u001b[0;32m   1589\u001b[0m \u001b[38;5;28;01mdef\u001b[39;00m \u001b[38;5;21mboxplot\u001b[39m(\n\u001b[0;32m   1590\u001b[0m     data\u001b[38;5;241m=\u001b[39m\u001b[38;5;28;01mNone\u001b[39;00m, \u001b[38;5;241m*\u001b[39m, x\u001b[38;5;241m=\u001b[39m\u001b[38;5;28;01mNone\u001b[39;00m, y\u001b[38;5;241m=\u001b[39m\u001b[38;5;28;01mNone\u001b[39;00m, hue\u001b[38;5;241m=\u001b[39m\u001b[38;5;28;01mNone\u001b[39;00m, order\u001b[38;5;241m=\u001b[39m\u001b[38;5;28;01mNone\u001b[39;00m, hue_order\u001b[38;5;241m=\u001b[39m\u001b[38;5;28;01mNone\u001b[39;00m,\n\u001b[0;32m   1591\u001b[0m     orient\u001b[38;5;241m=\u001b[39m\u001b[38;5;28;01mNone\u001b[39;00m, color\u001b[38;5;241m=\u001b[39m\u001b[38;5;28;01mNone\u001b[39;00m, palette\u001b[38;5;241m=\u001b[39m\u001b[38;5;28;01mNone\u001b[39;00m, saturation\u001b[38;5;241m=\u001b[39m\u001b[38;5;241m.75\u001b[39m, fill\u001b[38;5;241m=\u001b[39m\u001b[38;5;28;01mTrue\u001b[39;00m,\n\u001b[1;32m   (...)\u001b[0m\n\u001b[0;32m   1594\u001b[0m     legend\u001b[38;5;241m=\u001b[39m\u001b[38;5;124m\"\u001b[39m\u001b[38;5;124mauto\u001b[39m\u001b[38;5;124m\"\u001b[39m, ax\u001b[38;5;241m=\u001b[39m\u001b[38;5;28;01mNone\u001b[39;00m, \u001b[38;5;241m*\u001b[39m\u001b[38;5;241m*\u001b[39mkwargs\n\u001b[0;32m   1595\u001b[0m ):\n\u001b[1;32m-> 1597\u001b[0m     p \u001b[38;5;241m=\u001b[39m \u001b[43m_CategoricalPlotter\u001b[49m\u001b[43m(\u001b[49m\n\u001b[0;32m   1598\u001b[0m \u001b[43m        \u001b[49m\u001b[43mdata\u001b[49m\u001b[38;5;241;43m=\u001b[39;49m\u001b[43mdata\u001b[49m\u001b[43m,\u001b[49m\n\u001b[0;32m   1599\u001b[0m \u001b[43m        \u001b[49m\u001b[43mvariables\u001b[49m\u001b[38;5;241;43m=\u001b[39;49m\u001b[38;5;28;43mdict\u001b[39;49m\u001b[43m(\u001b[49m\u001b[43mx\u001b[49m\u001b[38;5;241;43m=\u001b[39;49m\u001b[43mx\u001b[49m\u001b[43m,\u001b[49m\u001b[43m \u001b[49m\u001b[43my\u001b[49m\u001b[38;5;241;43m=\u001b[39;49m\u001b[43my\u001b[49m\u001b[43m,\u001b[49m\u001b[43m \u001b[49m\u001b[43mhue\u001b[49m\u001b[38;5;241;43m=\u001b[39;49m\u001b[43mhue\u001b[49m\u001b[43m)\u001b[49m\u001b[43m,\u001b[49m\n\u001b[0;32m   1600\u001b[0m \u001b[43m        \u001b[49m\u001b[43morder\u001b[49m\u001b[38;5;241;43m=\u001b[39;49m\u001b[43morder\u001b[49m\u001b[43m,\u001b[49m\n\u001b[0;32m   1601\u001b[0m \u001b[43m        \u001b[49m\u001b[43morient\u001b[49m\u001b[38;5;241;43m=\u001b[39;49m\u001b[43morient\u001b[49m\u001b[43m,\u001b[49m\n\u001b[0;32m   1602\u001b[0m \u001b[43m        \u001b[49m\u001b[43mcolor\u001b[49m\u001b[38;5;241;43m=\u001b[39;49m\u001b[43mcolor\u001b[49m\u001b[43m,\u001b[49m\n\u001b[0;32m   1603\u001b[0m \u001b[43m        \u001b[49m\u001b[43mlegend\u001b[49m\u001b[38;5;241;43m=\u001b[39;49m\u001b[43mlegend\u001b[49m\u001b[43m,\u001b[49m\n\u001b[0;32m   1604\u001b[0m \u001b[43m    \u001b[49m\u001b[43m)\u001b[49m\n\u001b[0;32m   1606\u001b[0m     \u001b[38;5;28;01mif\u001b[39;00m ax \u001b[38;5;129;01mis\u001b[39;00m \u001b[38;5;28;01mNone\u001b[39;00m:\n\u001b[0;32m   1607\u001b[0m         ax \u001b[38;5;241m=\u001b[39m plt\u001b[38;5;241m.\u001b[39mgca()\n",
      "File \u001b[1;32mc:\\Users\\kumaw\\AppData\\Local\\Programs\\Python\\Python312\\Lib\\site-packages\\seaborn\\categorical.py:67\u001b[0m, in \u001b[0;36m_CategoricalPlotter.__init__\u001b[1;34m(self, data, variables, order, orient, require_numeric, color, legend)\u001b[0m\n\u001b[0;32m     56\u001b[0m \u001b[38;5;28;01mdef\u001b[39;00m \u001b[38;5;21m__init__\u001b[39m(\n\u001b[0;32m     57\u001b[0m     \u001b[38;5;28mself\u001b[39m,\n\u001b[0;32m     58\u001b[0m     data\u001b[38;5;241m=\u001b[39m\u001b[38;5;28;01mNone\u001b[39;00m,\n\u001b[1;32m   (...)\u001b[0m\n\u001b[0;32m     64\u001b[0m     legend\u001b[38;5;241m=\u001b[39m\u001b[38;5;124m\"\u001b[39m\u001b[38;5;124mauto\u001b[39m\u001b[38;5;124m\"\u001b[39m,\n\u001b[0;32m     65\u001b[0m ):\n\u001b[1;32m---> 67\u001b[0m     \u001b[38;5;28;43msuper\u001b[39;49m\u001b[43m(\u001b[49m\u001b[43m)\u001b[49m\u001b[38;5;241;43m.\u001b[39;49m\u001b[38;5;21;43m__init__\u001b[39;49m\u001b[43m(\u001b[49m\u001b[43mdata\u001b[49m\u001b[38;5;241;43m=\u001b[39;49m\u001b[43mdata\u001b[49m\u001b[43m,\u001b[49m\u001b[43m \u001b[49m\u001b[43mvariables\u001b[49m\u001b[38;5;241;43m=\u001b[39;49m\u001b[43mvariables\u001b[49m\u001b[43m)\u001b[49m\n\u001b[0;32m     69\u001b[0m     \u001b[38;5;66;03m# This method takes care of some bookkeeping that is necessary because the\u001b[39;00m\n\u001b[0;32m     70\u001b[0m     \u001b[38;5;66;03m# original categorical plots (prior to the 2021 refactor) had some rules that\u001b[39;00m\n\u001b[0;32m     71\u001b[0m     \u001b[38;5;66;03m# don't fit exactly into VectorPlotter logic. It may be wise to have a second\u001b[39;00m\n\u001b[1;32m   (...)\u001b[0m\n\u001b[0;32m     76\u001b[0m     \u001b[38;5;66;03m# default VectorPlotter rules. If we do decide to make orient part of the\u001b[39;00m\n\u001b[0;32m     77\u001b[0m     \u001b[38;5;66;03m# _base variable assignment, we'll want to figure out how to express that.\u001b[39;00m\n\u001b[0;32m     78\u001b[0m     \u001b[38;5;28;01mif\u001b[39;00m \u001b[38;5;28mself\u001b[39m\u001b[38;5;241m.\u001b[39minput_format \u001b[38;5;241m==\u001b[39m \u001b[38;5;124m\"\u001b[39m\u001b[38;5;124mwide\u001b[39m\u001b[38;5;124m\"\u001b[39m \u001b[38;5;129;01mand\u001b[39;00m orient \u001b[38;5;129;01min\u001b[39;00m [\u001b[38;5;124m\"\u001b[39m\u001b[38;5;124mh\u001b[39m\u001b[38;5;124m\"\u001b[39m, \u001b[38;5;124m\"\u001b[39m\u001b[38;5;124my\u001b[39m\u001b[38;5;124m\"\u001b[39m]:\n",
      "File \u001b[1;32mc:\\Users\\kumaw\\AppData\\Local\\Programs\\Python\\Python312\\Lib\\site-packages\\seaborn\\_base.py:634\u001b[0m, in \u001b[0;36mVectorPlotter.__init__\u001b[1;34m(self, data, variables)\u001b[0m\n\u001b[0;32m    629\u001b[0m \u001b[38;5;66;03m# var_ordered is relevant only for categorical axis variables, and may\u001b[39;00m\n\u001b[0;32m    630\u001b[0m \u001b[38;5;66;03m# be better handled by an internal axis information object that tracks\u001b[39;00m\n\u001b[0;32m    631\u001b[0m \u001b[38;5;66;03m# such information and is set up by the scale_* methods. The analogous\u001b[39;00m\n\u001b[0;32m    632\u001b[0m \u001b[38;5;66;03m# information for numeric axes would be information about log scales.\u001b[39;00m\n\u001b[0;32m    633\u001b[0m \u001b[38;5;28mself\u001b[39m\u001b[38;5;241m.\u001b[39m_var_ordered \u001b[38;5;241m=\u001b[39m {\u001b[38;5;124m\"\u001b[39m\u001b[38;5;124mx\u001b[39m\u001b[38;5;124m\"\u001b[39m: \u001b[38;5;28;01mFalse\u001b[39;00m, \u001b[38;5;124m\"\u001b[39m\u001b[38;5;124my\u001b[39m\u001b[38;5;124m\"\u001b[39m: \u001b[38;5;28;01mFalse\u001b[39;00m}  \u001b[38;5;66;03m# alt., used DefaultDict\u001b[39;00m\n\u001b[1;32m--> 634\u001b[0m \u001b[38;5;28;43mself\u001b[39;49m\u001b[38;5;241;43m.\u001b[39;49m\u001b[43massign_variables\u001b[49m\u001b[43m(\u001b[49m\u001b[43mdata\u001b[49m\u001b[43m,\u001b[49m\u001b[43m \u001b[49m\u001b[43mvariables\u001b[49m\u001b[43m)\u001b[49m\n\u001b[0;32m    636\u001b[0m \u001b[38;5;66;03m# TODO Lots of tests assume that these are called to initialize the\u001b[39;00m\n\u001b[0;32m    637\u001b[0m \u001b[38;5;66;03m# mappings to default values on class initialization. I'd prefer to\u001b[39;00m\n\u001b[0;32m    638\u001b[0m \u001b[38;5;66;03m# move away from that and only have a mapping when explicitly called.\u001b[39;00m\n\u001b[0;32m    639\u001b[0m \u001b[38;5;28;01mfor\u001b[39;00m var \u001b[38;5;129;01min\u001b[39;00m [\u001b[38;5;124m\"\u001b[39m\u001b[38;5;124mhue\u001b[39m\u001b[38;5;124m\"\u001b[39m, \u001b[38;5;124m\"\u001b[39m\u001b[38;5;124msize\u001b[39m\u001b[38;5;124m\"\u001b[39m, \u001b[38;5;124m\"\u001b[39m\u001b[38;5;124mstyle\u001b[39m\u001b[38;5;124m\"\u001b[39m]:\n",
      "File \u001b[1;32mc:\\Users\\kumaw\\AppData\\Local\\Programs\\Python\\Python312\\Lib\\site-packages\\seaborn\\_base.py:679\u001b[0m, in \u001b[0;36mVectorPlotter.assign_variables\u001b[1;34m(self, data, variables)\u001b[0m\n\u001b[0;32m    674\u001b[0m \u001b[38;5;28;01melse\u001b[39;00m:\n\u001b[0;32m    675\u001b[0m     \u001b[38;5;66;03m# When dealing with long-form input, use the newer PlotData\u001b[39;00m\n\u001b[0;32m    676\u001b[0m     \u001b[38;5;66;03m# object (internal but introduced for the objects interface)\u001b[39;00m\n\u001b[0;32m    677\u001b[0m     \u001b[38;5;66;03m# to centralize / standardize data consumption logic.\u001b[39;00m\n\u001b[0;32m    678\u001b[0m     \u001b[38;5;28mself\u001b[39m\u001b[38;5;241m.\u001b[39minput_format \u001b[38;5;241m=\u001b[39m \u001b[38;5;124m\"\u001b[39m\u001b[38;5;124mlong\u001b[39m\u001b[38;5;124m\"\u001b[39m\n\u001b[1;32m--> 679\u001b[0m     plot_data \u001b[38;5;241m=\u001b[39m \u001b[43mPlotData\u001b[49m\u001b[43m(\u001b[49m\u001b[43mdata\u001b[49m\u001b[43m,\u001b[49m\u001b[43m \u001b[49m\u001b[43mvariables\u001b[49m\u001b[43m)\u001b[49m\n\u001b[0;32m    680\u001b[0m     frame \u001b[38;5;241m=\u001b[39m plot_data\u001b[38;5;241m.\u001b[39mframe\n\u001b[0;32m    681\u001b[0m     names \u001b[38;5;241m=\u001b[39m plot_data\u001b[38;5;241m.\u001b[39mnames\n",
      "File \u001b[1;32mc:\\Users\\kumaw\\AppData\\Local\\Programs\\Python\\Python312\\Lib\\site-packages\\seaborn\\_core\\data.py:58\u001b[0m, in \u001b[0;36mPlotData.__init__\u001b[1;34m(self, data, variables)\u001b[0m\n\u001b[0;32m     51\u001b[0m \u001b[38;5;28;01mdef\u001b[39;00m \u001b[38;5;21m__init__\u001b[39m(\n\u001b[0;32m     52\u001b[0m     \u001b[38;5;28mself\u001b[39m,\n\u001b[0;32m     53\u001b[0m     data: DataSource,\n\u001b[0;32m     54\u001b[0m     variables: \u001b[38;5;28mdict\u001b[39m[\u001b[38;5;28mstr\u001b[39m, VariableSpec],\n\u001b[0;32m     55\u001b[0m ):\n\u001b[0;32m     57\u001b[0m     data \u001b[38;5;241m=\u001b[39m handle_data_source(data)\n\u001b[1;32m---> 58\u001b[0m     frame, names, ids \u001b[38;5;241m=\u001b[39m \u001b[38;5;28;43mself\u001b[39;49m\u001b[38;5;241;43m.\u001b[39;49m\u001b[43m_assign_variables\u001b[49m\u001b[43m(\u001b[49m\u001b[43mdata\u001b[49m\u001b[43m,\u001b[49m\u001b[43m \u001b[49m\u001b[43mvariables\u001b[49m\u001b[43m)\u001b[49m\n\u001b[0;32m     60\u001b[0m     \u001b[38;5;28mself\u001b[39m\u001b[38;5;241m.\u001b[39mframe \u001b[38;5;241m=\u001b[39m frame\n\u001b[0;32m     61\u001b[0m     \u001b[38;5;28mself\u001b[39m\u001b[38;5;241m.\u001b[39mnames \u001b[38;5;241m=\u001b[39m names\n",
      "File \u001b[1;32mc:\\Users\\kumaw\\AppData\\Local\\Programs\\Python\\Python312\\Lib\\site-packages\\seaborn\\_core\\data.py:232\u001b[0m, in \u001b[0;36mPlotData._assign_variables\u001b[1;34m(self, data, variables)\u001b[0m\n\u001b[0;32m    230\u001b[0m     \u001b[38;5;28;01melse\u001b[39;00m:\n\u001b[0;32m    231\u001b[0m         err \u001b[38;5;241m+\u001b[39m\u001b[38;5;241m=\u001b[39m \u001b[38;5;124m\"\u001b[39m\u001b[38;5;124mAn entry with this name does not appear in `data`.\u001b[39m\u001b[38;5;124m\"\u001b[39m\n\u001b[1;32m--> 232\u001b[0m     \u001b[38;5;28;01mraise\u001b[39;00m \u001b[38;5;167;01mValueError\u001b[39;00m(err)\n\u001b[0;32m    234\u001b[0m \u001b[38;5;28;01melse\u001b[39;00m:\n\u001b[0;32m    235\u001b[0m \n\u001b[0;32m    236\u001b[0m     \u001b[38;5;66;03m# Otherwise, assume the value somehow represents data\u001b[39;00m\n\u001b[0;32m    237\u001b[0m \n\u001b[0;32m    238\u001b[0m     \u001b[38;5;66;03m# Ignore empty data structures\u001b[39;00m\n\u001b[0;32m    239\u001b[0m     \u001b[38;5;28;01mif\u001b[39;00m \u001b[38;5;28misinstance\u001b[39m(val, Sized) \u001b[38;5;129;01mand\u001b[39;00m \u001b[38;5;28mlen\u001b[39m(val) \u001b[38;5;241m==\u001b[39m \u001b[38;5;241m0\u001b[39m:\n",
      "\u001b[1;31mValueError\u001b[0m: Could not interpret value `imdb_score` for `y`. An entry with this name does not appear in `data`."
     ]
    },
    {
     "data": {
      "text/plain": [
       "<Figure size 1000x600 with 0 Axes>"
      ]
     },
     "metadata": {},
     "output_type": "display_data"
    }
   ],
   "source": [
    "# import pandas as pd\n",
    "# import matplotlib.pyplot as plt\n",
    "# import seaborn as sns\n",
    "# import plotly.express as px\n",
    "\n",
    "\n",
    "# netflix_data['genre'] = netflix_data['genre'].apply(lambda x: x.split(',')[0])  # For example, take the first genre\n",
    "\n",
    "# # Now, re-run the plot\n",
    "# plt.figure(figsize=(10, 6))\n",
    "# sns.boxplot(x='genre', y='imdb_score', data=netflix_data)\n",
    "# plt.xticks(rotation=90)\n",
    "# plt.title('Genre Distribution by IMDb Ratings')\n",
    "# plt.xlabel('Genre')\n",
    "# plt.ylabel('IMDb Score')\n",
    "# plt.tight_layout()\n",
    "# plt.show()\n",
    "\n",
    "\n",
    "import pandas as pd\n",
    "import matplotlib.pyplot as plt\n",
    "import seaborn as sns\n",
    "\n",
    "# Assuming netflix_data is already loaded\n",
    "\n",
    "# Ensure that 'genre' exists and handle missing data\n",
    "if 'Genre' in netflix_data.columns:\n",
    "    netflix_data['Genre'] = netflix_data['Genre'].fillna('Unknown').apply(lambda x: x.split(',')[0] if isinstance(x, str) else 'Unknown')\n",
    "\n",
    "    # Plotting the boxplot\n",
    "    plt.figure(figsize=(10, 6))\n",
    "    sns.boxplot(x='Genre', y='imdb_score', data=netflix_data)\n",
    "    plt.xticks(rotation=90)\n",
    "    plt.title('Genre Distribution by IMDb Ratings')\n",
    "    plt.xlabel('Genre')\n",
    "    plt.ylabel('IMDb Score')\n",
    "    plt.tight_layout()\n",
    "    plt.show()\n",
    "else:\n",
    "    print(\"Column 'genre' does not exist in the dataset.\")\n"
   ]
  },
  {
   "cell_type": "code",
   "execution_count": 29,
   "metadata": {},
   "outputs": [
    {
     "name": "stdout",
     "output_type": "stream",
     "text": [
      "28\n"
     ]
    }
   ],
   "source": [
    "Genres = netflix_data.Genre.str.get_dummies(',')\n",
    "Genre = Genres.columns.str.strip().values.tolist()\n",
    "Genres = netflix_data['Genre']\n",
    "Genre_Count = dict()\n",
    "for i in Genre:\n",
    "    p = Genres.str.count(i).sum()\n",
    "    Genre_Count[i] = int(p)\n",
    "print(len(Genre_Count))"
   ]
  },
  {
   "cell_type": "code",
   "execution_count": 30,
   "metadata": {},
   "outputs": [],
   "source": [
    "Genre_Count = {k: v for k, v in sorted(Genre_Count.items(), key=lambda item: item[1], reverse = True)}\n",
    "top_genres = {\"Genre\": list(Genre_Count.keys()), \"Count\": list(Genre_Count.values())}"
   ]
  },
  {
   "cell_type": "code",
   "execution_count": 31,
   "metadata": {},
   "outputs": [
    {
     "ename": "ValueError",
     "evalue": "Mime type rendering requires nbformat>=4.2.0 but it is not installed",
     "output_type": "error",
     "traceback": [
      "\u001b[1;31m---------------------------------------------------------------------------\u001b[0m",
      "\u001b[1;31mValueError\u001b[0m                                Traceback (most recent call last)",
      "Cell \u001b[1;32mIn[31], line 2\u001b[0m\n\u001b[0;32m      1\u001b[0m fig \u001b[38;5;241m=\u001b[39m px\u001b[38;5;241m.\u001b[39mbar(pd\u001b[38;5;241m.\u001b[39mDataFrame(top_genres)[:\u001b[38;5;241m10\u001b[39m], y \u001b[38;5;241m=\u001b[39m \u001b[38;5;124m'\u001b[39m\u001b[38;5;124mGenre\u001b[39m\u001b[38;5;124m'\u001b[39m, x \u001b[38;5;241m=\u001b[39m \u001b[38;5;124m'\u001b[39m\u001b[38;5;124mCount\u001b[39m\u001b[38;5;124m'\u001b[39m, orientation \u001b[38;5;241m=\u001b[39m \u001b[38;5;124m'\u001b[39m\u001b[38;5;124mh\u001b[39m\u001b[38;5;124m'\u001b[39m, title \u001b[38;5;241m=\u001b[39m \u001b[38;5;124m'\u001b[39m\u001b[38;5;124mGenres with maximum content\u001b[39m\u001b[38;5;124m'\u001b[39m, color \u001b[38;5;241m=\u001b[39m \u001b[38;5;124m'\u001b[39m\u001b[38;5;124mCount\u001b[39m\u001b[38;5;124m'\u001b[39m, color_continuous_scale \u001b[38;5;241m=\u001b[39m px\u001b[38;5;241m.\u001b[39mcolors\u001b[38;5;241m.\u001b[39mqualitative\u001b[38;5;241m.\u001b[39mPrism)\u001b[38;5;241m.\u001b[39mupdate_yaxes(categoryorder \u001b[38;5;241m=\u001b[39m \u001b[38;5;124m'\u001b[39m\u001b[38;5;124mtotal ascending\u001b[39m\u001b[38;5;124m'\u001b[39m)\n\u001b[1;32m----> 2\u001b[0m \u001b[43mfig\u001b[49m\u001b[38;5;241;43m.\u001b[39;49m\u001b[43mshow\u001b[49m\u001b[43m(\u001b[49m\u001b[43m)\u001b[49m\n",
      "File \u001b[1;32mc:\\Users\\kumaw\\AppData\\Local\\Programs\\Python\\Python312\\Lib\\site-packages\\plotly\\basedatatypes.py:3410\u001b[0m, in \u001b[0;36mBaseFigure.show\u001b[1;34m(self, *args, **kwargs)\u001b[0m\n\u001b[0;32m   3377\u001b[0m \u001b[38;5;250m\u001b[39m\u001b[38;5;124;03m\"\"\"\u001b[39;00m\n\u001b[0;32m   3378\u001b[0m \u001b[38;5;124;03mShow a figure using either the default renderer(s) or the renderer(s)\u001b[39;00m\n\u001b[0;32m   3379\u001b[0m \u001b[38;5;124;03mspecified by the renderer argument\u001b[39;00m\n\u001b[1;32m   (...)\u001b[0m\n\u001b[0;32m   3406\u001b[0m \u001b[38;5;124;03mNone\u001b[39;00m\n\u001b[0;32m   3407\u001b[0m \u001b[38;5;124;03m\"\"\"\u001b[39;00m\n\u001b[0;32m   3408\u001b[0m \u001b[38;5;28;01mimport\u001b[39;00m \u001b[38;5;21;01mplotly\u001b[39;00m\u001b[38;5;21;01m.\u001b[39;00m\u001b[38;5;21;01mio\u001b[39;00m \u001b[38;5;28;01mas\u001b[39;00m \u001b[38;5;21;01mpio\u001b[39;00m\n\u001b[1;32m-> 3410\u001b[0m \u001b[38;5;28;01mreturn\u001b[39;00m \u001b[43mpio\u001b[49m\u001b[38;5;241;43m.\u001b[39;49m\u001b[43mshow\u001b[49m\u001b[43m(\u001b[49m\u001b[38;5;28;43mself\u001b[39;49m\u001b[43m,\u001b[49m\u001b[43m \u001b[49m\u001b[38;5;241;43m*\u001b[39;49m\u001b[43margs\u001b[49m\u001b[43m,\u001b[49m\u001b[43m \u001b[49m\u001b[38;5;241;43m*\u001b[39;49m\u001b[38;5;241;43m*\u001b[39;49m\u001b[43mkwargs\u001b[49m\u001b[43m)\u001b[49m\n",
      "File \u001b[1;32mc:\\Users\\kumaw\\AppData\\Local\\Programs\\Python\\Python312\\Lib\\site-packages\\plotly\\io\\_renderers.py:394\u001b[0m, in \u001b[0;36mshow\u001b[1;34m(fig, renderer, validate, **kwargs)\u001b[0m\n\u001b[0;32m    389\u001b[0m         \u001b[38;5;28;01mraise\u001b[39;00m \u001b[38;5;167;01mValueError\u001b[39;00m(\n\u001b[0;32m    390\u001b[0m             \u001b[38;5;124m\"\u001b[39m\u001b[38;5;124mMime type rendering requires ipython but it is not installed\u001b[39m\u001b[38;5;124m\"\u001b[39m\n\u001b[0;32m    391\u001b[0m         )\n\u001b[0;32m    393\u001b[0m     \u001b[38;5;28;01mif\u001b[39;00m \u001b[38;5;129;01mnot\u001b[39;00m nbformat \u001b[38;5;129;01mor\u001b[39;00m Version(nbformat\u001b[38;5;241m.\u001b[39m__version__) \u001b[38;5;241m<\u001b[39m Version(\u001b[38;5;124m\"\u001b[39m\u001b[38;5;124m4.2.0\u001b[39m\u001b[38;5;124m\"\u001b[39m):\n\u001b[1;32m--> 394\u001b[0m         \u001b[38;5;28;01mraise\u001b[39;00m \u001b[38;5;167;01mValueError\u001b[39;00m(\n\u001b[0;32m    395\u001b[0m             \u001b[38;5;124m\"\u001b[39m\u001b[38;5;124mMime type rendering requires nbformat>=4.2.0 but it is not installed\u001b[39m\u001b[38;5;124m\"\u001b[39m\n\u001b[0;32m    396\u001b[0m         )\n\u001b[0;32m    398\u001b[0m     ipython_display\u001b[38;5;241m.\u001b[39mdisplay(bundle, raw\u001b[38;5;241m=\u001b[39m\u001b[38;5;28;01mTrue\u001b[39;00m)\n\u001b[0;32m    400\u001b[0m \u001b[38;5;66;03m# external renderers\u001b[39;00m\n",
      "\u001b[1;31mValueError\u001b[0m: Mime type rendering requires nbformat>=4.2.0 but it is not installed"
     ]
    }
   ],
   "source": [
    "fig = px.bar(pd.DataFrame(top_genres)[:10], y = 'Genre', x = 'Count', orientation = 'h', title = 'Genres with maximum content', color = 'Count', color_continuous_scale = px.colors.qualitative.Prism).update_yaxes(categoryorder = 'total ascending')\n",
    "fig.show()"
   ]
  },
  {
   "cell_type": "code",
   "execution_count": 32,
   "metadata": {},
   "outputs": [
    {
     "data": {
      "image/png": "[encoded data removed]",
      "text/plain": [
       "<Figure size 1500x500 with 1 Axes>"
      ]
     },
     "metadata": {},
     "output_type": "display_data"
    }
   ],
   "source": [
    "top_15 = netflix_data.sort_values(by = ['IMDb Score'], ascending = False).head(15)\n",
    "plt.figure(figsize = (15,5))\n",
    "sns.barplot(data = top_15, y = top_15.index, x = \"IMDb Score\")\n",
    "plt.show()"
   ]
  },
  {
   "cell_type": "code",
   "execution_count": 33,
   "metadata": {},
   "outputs": [],
   "source": [
    "netflix_data = netflix_data[~netflix_data.index.duplicated()]"
   ]
  },
  {
   "cell_type": "code",
   "execution_count": 34,
   "metadata": {},
   "outputs": [
    {
     "data": {
      "text/plain": [
       "0"
      ]
     },
     "execution_count": 34,
     "metadata": {},
     "output_type": "execute_result"
    }
   ],
   "source": [
    "netflix_data.index.duplicated().sum()"
   ]
  },
  {
   "cell_type": "code",
   "execution_count": 35,
   "metadata": {},
   "outputs": [
    {
     "data": {
      "text/plain": [
       "0"
      ]
     },
     "execution_count": 35,
     "metadata": {},
     "output_type": "execute_result"
    }
   ],
   "source": [
    "netflix_data.index.isnull().sum()"
   ]
  },
  {
   "cell_type": "code",
   "execution_count": 36,
   "metadata": {},
   "outputs": [
    {
     "name": "stdout",
     "output_type": "stream",
     "text": [
      "0\n"
     ]
    }
   ],
   "source": [
    "netflix_data['Genre'] = netflix_data['Genre'].astype('str')\n",
    "print((netflix_data['Genre'] == 'nan').sum())"
   ]
  },
  {
   "cell_type": "code",
   "execution_count": 37,
   "metadata": {},
   "outputs": [
    {
     "name": "stdout",
     "output_type": "stream",
     "text": [
      "36\n"
     ]
    }
   ],
   "source": [
    "netflix_data['Tags'] = netflix_data['Tags'].astype('str')\n",
    "print((netflix_data['Tags'] == 'nan').sum())"
   ]
  },
  {
   "cell_type": "code",
   "execution_count": 38,
   "metadata": {},
   "outputs": [
    {
     "name": "stdout",
     "output_type": "stream",
     "text": [
      "0\n"
     ]
    }
   ],
   "source": [
    "print(((netflix_data['Genre'] == 'nan') & (netflix_data['Tags'] == 'nan')).sum())\n",
    "#so these two features can used to recommend movies as no movie can be left unrecommended"
   ]
  },
  {
   "cell_type": "code",
   "execution_count": 39,
   "metadata": {},
   "outputs": [
    {
     "name": "stdout",
     "output_type": "stream",
     "text": [
      "        IMDb Score\n",
      "count  9125.000000\n",
      "mean      6.955134\n",
      "std       0.896501\n",
      "min       1.600000\n",
      "25%       6.500000\n",
      "50%       7.000000\n",
      "75%       7.500000\n",
      "max       9.700000\n"
     ]
    },
    {
     "data": {
      "text/plain": [
       "0    6.6\n",
       "Name: IMDb Score, dtype: float64"
      ]
     },
     "execution_count": 39,
     "metadata": {},
     "output_type": "execute_result"
    }
   ],
   "source": [
    "print(netflix_data[['IMDb Score']].describe())\n",
    "netflix_data['IMDb Score'].mode()\n",
    "#this feature will be used to sort the movie or series list to represent the recommended items"
   ]
  },
  {
   "cell_type": "code",
   "execution_count": 40,
   "metadata": {},
   "outputs": [
    {
     "name": "stdout",
     "output_type": "stream",
     "text": [
      "        IMDb Score\n",
      "count  9132.000000\n",
      "mean      6.954862\n",
      "std       0.896212\n",
      "min       1.600000\n",
      "25%       6.500000\n",
      "50%       7.000000\n",
      "75%       7.500000\n",
      "max       9.700000\n"
     ]
    }
   ],
   "source": [
    "netflix_data['IMDb Score'] = netflix_data['IMDb Score'].apply(lambda x: 6.6 if x == 0 or math.isnan(x) else x)\n",
    "print(netflix_data[['IMDb Score']].describe())\n",
    "#since no value has suffered for change greater than 0.0003 after replacing the null values with mode value, so we replace the null values with 6.6"
   ]
  },
  {
   "cell_type": "code",
   "execution_count": 41,
   "metadata": {},
   "outputs": [],
   "source": [
    "netflix_data['Actors'] = netflix_data['Actors'].astype('str')\n",
    "netflix_data['ViewerRating'] = netflix_data['ViewerRating'].astype('str')"
   ]
  },
  {
   "cell_type": "code",
   "execution_count": 42,
   "metadata": {},
   "outputs": [],
   "source": [
    "def prepare_data(x):\n",
    "        return str.lower(x.replace(\" \", \"\"))"
   ]
  },
  {
   "cell_type": "code",
   "execution_count": 43,
   "metadata": {},
   "outputs": [],
   "source": [
    "new_features = ['Genre', 'Tags', 'Actors', 'ViewerRating']\n",
    "selected_data = netflix_data[new_features]"
   ]
  },
  {
   "cell_type": "code",
   "execution_count": 44,
   "metadata": {},
   "outputs": [
    {
     "data": {
      "text/html": [
       "<div>\n",
       "<style scoped>\n",
       "    .dataframe tbody tr th:only-of-type {\n",
       "        vertical-align: middle;\n",
       "    }\n",
       "\n",
       "    .dataframe tbody tr th {\n",
       "        vertical-align: top;\n",
       "    }\n",
       "\n",
       "    .dataframe thead th {\n",
       "        text-align: right;\n",
       "    }\n",
       "</style>\n",
       "<table border=\"1\" class=\"dataframe\">\n",
       "  <thead>\n",
       "    <tr style=\"text-align: right;\">\n",
       "      <th></th>\n",
       "      <th>Genre</th>\n",
       "      <th>Tags</th>\n",
       "      <th>Actors</th>\n",
       "      <th>ViewerRating</th>\n",
       "    </tr>\n",
       "    <tr>\n",
       "      <th>Title</th>\n",
       "      <th></th>\n",
       "      <th></th>\n",
       "      <th></th>\n",
       "      <th></th>\n",
       "    </tr>\n",
       "  </thead>\n",
       "  <tbody>\n",
       "    <tr>\n",
       "      <th>letsfightghost</th>\n",
       "      <td>crime</td>\n",
       "      <td>comedyprogrammes,romantictvcomedies,horrorprog...</td>\n",
       "      <td>linaleandersson,kårehedebrant,perragnar,henrik...</td>\n",
       "      <td>r</td>\n",
       "    </tr>\n",
       "    <tr>\n",
       "      <th>howtobuildagirl</th>\n",
       "      <td>comedy</td>\n",
       "      <td>dramas,comedies,filmsbasedonbooks,british</td>\n",
       "      <td>cleo,paddyconsidine,beaniefeldstein,dónalfinn</td>\n",
       "      <td>r</td>\n",
       "    </tr>\n",
       "  </tbody>\n",
       "</table>\n",
       "</div>"
      ],
      "text/plain": [
       "                  Genre                                               Tags  \\\n",
       "Title                                                                        \n",
       "letsfightghost    crime  comedyprogrammes,romantictvcomedies,horrorprog...   \n",
       "howtobuildagirl  comedy          dramas,comedies,filmsbasedonbooks,british   \n",
       "\n",
       "                                                            Actors  \\\n",
       "Title                                                                \n",
       "letsfightghost   linaleandersson,kårehedebrant,perragnar,henrik...   \n",
       "howtobuildagirl      cleo,paddyconsidine,beaniefeldstein,dónalfinn   \n",
       "\n",
       "                ViewerRating  \n",
       "Title                         \n",
       "letsfightghost             r  \n",
       "howtobuildagirl            r  "
      ]
     },
     "execution_count": 44,
     "metadata": {},
     "output_type": "execute_result"
    }
   ],
   "source": [
    "for new_feature in new_features:\n",
    "    selected_data.loc[:, new_feature] = selected_data.loc[:, new_feature].apply(prepare_data)\n",
    "selected_data.index = selected_data.index.str.lower()\n",
    "selected_data.index = selected_data.index.str.replace(\" \",'')\n",
    "selected_data.head(2)"
   ]
  },
  {
   "cell_type": "code",
   "execution_count": 45,
   "metadata": {},
   "outputs": [],
   "source": [
    "def create_soup(x):\n",
    "    return x['Genre'] + ' ' + x['Tags'] + ' ' +x['Actors']+' '+ x['ViewerRating']"
   ]
  },
  {
   "cell_type": "code",
   "execution_count": 46,
   "metadata": {},
   "outputs": [
    {
     "name": "stderr",
     "output_type": "stream",
     "text": [
      "C:\\Users\\kumaw\\AppData\\Local\\Temp\\ipykernel_10952\\1181114372.py:1: SettingWithCopyWarning:\n",
      "\n",
      "\n",
      "A value is trying to be set on a copy of a slice from a DataFrame.\n",
      "Try using .loc[row_indexer,col_indexer] = value instead\n",
      "\n",
      "See the caveats in the documentation: https://pandas.pydata.org/pandas-docs/stable/user_guide/indexing.html#returning-a-view-versus-a-copy\n",
      "\n"
     ]
    },
    {
     "data": {
      "text/html": [
       "<div>\n",
       "<style scoped>\n",
       "    .dataframe tbody tr th:only-of-type {\n",
       "        vertical-align: middle;\n",
       "    }\n",
       "\n",
       "    .dataframe tbody tr th {\n",
       "        vertical-align: top;\n",
       "    }\n",
       "\n",
       "    .dataframe thead th {\n",
       "        text-align: right;\n",
       "    }\n",
       "</style>\n",
       "<table border=\"1\" class=\"dataframe\">\n",
       "  <thead>\n",
       "    <tr style=\"text-align: right;\">\n",
       "      <th></th>\n",
       "      <th>Genre</th>\n",
       "      <th>Tags</th>\n",
       "      <th>Actors</th>\n",
       "      <th>ViewerRating</th>\n",
       "      <th>soup</th>\n",
       "    </tr>\n",
       "    <tr>\n",
       "      <th>Title</th>\n",
       "      <th></th>\n",
       "      <th></th>\n",
       "      <th></th>\n",
       "      <th></th>\n",
       "      <th></th>\n",
       "    </tr>\n",
       "  </thead>\n",
       "  <tbody>\n",
       "    <tr>\n",
       "      <th>letsfightghost</th>\n",
       "      <td>crime</td>\n",
       "      <td>comedyprogrammes,romantictvcomedies,horrorprog...</td>\n",
       "      <td>linaleandersson,kårehedebrant,perragnar,henrik...</td>\n",
       "      <td>r</td>\n",
       "      <td>crime comedyprogrammes,romantictvcomedies,horr...</td>\n",
       "    </tr>\n",
       "    <tr>\n",
       "      <th>howtobuildagirl</th>\n",
       "      <td>comedy</td>\n",
       "      <td>dramas,comedies,filmsbasedonbooks,british</td>\n",
       "      <td>cleo,paddyconsidine,beaniefeldstein,dónalfinn</td>\n",
       "      <td>r</td>\n",
       "      <td>comedy dramas,comedies,filmsbasedonbooks,briti...</td>\n",
       "    </tr>\n",
       "  </tbody>\n",
       "</table>\n",
       "</div>"
      ],
      "text/plain": [
       "                  Genre                                               Tags  \\\n",
       "Title                                                                        \n",
       "letsfightghost    crime  comedyprogrammes,romantictvcomedies,horrorprog...   \n",
       "howtobuildagirl  comedy          dramas,comedies,filmsbasedonbooks,british   \n",
       "\n",
       "                                                            Actors  \\\n",
       "Title                                                                \n",
       "letsfightghost   linaleandersson,kårehedebrant,perragnar,henrik...   \n",
       "howtobuildagirl      cleo,paddyconsidine,beaniefeldstein,dónalfinn   \n",
       "\n",
       "                ViewerRating  \\\n",
       "Title                          \n",
       "letsfightghost             r   \n",
       "howtobuildagirl            r   \n",
       "\n",
       "                                                              soup  \n",
       "Title                                                               \n",
       "letsfightghost   crime comedyprogrammes,romantictvcomedies,horr...  \n",
       "howtobuildagirl  comedy dramas,comedies,filmsbasedonbooks,briti...  "
      ]
     },
     "execution_count": 46,
     "metadata": {},
     "output_type": "execute_result"
    }
   ],
   "source": [
    "selected_data.loc[:, 'soup'] = selected_data.apply(create_soup, axis = 1)\n",
    "selected_data.head(2)"
   ]
  },
  {
   "cell_type": "code",
   "execution_count": 47,
   "metadata": {},
   "outputs": [],
   "source": [
    "count = CountVectorizer(stop_words='english')\n",
    "count_matrix = count.fit_transform(selected_data['soup'])\n",
    "cosine_sim2 = cosine_similarity(count_matrix, count_matrix)"
   ]
  },
  {
   "cell_type": "code",
   "execution_count": 48,
   "metadata": {},
   "outputs": [
    {
     "data": {
      "text/html": [
       "<div>\n",
       "<style scoped>\n",
       "    .dataframe tbody tr th:only-of-type {\n",
       "        vertical-align: middle;\n",
       "    }\n",
       "\n",
       "    .dataframe tbody tr th {\n",
       "        vertical-align: top;\n",
       "    }\n",
       "\n",
       "    .dataframe thead th {\n",
       "        text-align: right;\n",
       "    }\n",
       "</style>\n",
       "<table border=\"1\" class=\"dataframe\">\n",
       "  <thead>\n",
       "    <tr style=\"text-align: right;\">\n",
       "      <th></th>\n",
       "      <th>Title</th>\n",
       "      <th>Genre</th>\n",
       "      <th>Tags</th>\n",
       "      <th>Actors</th>\n",
       "      <th>ViewerRating</th>\n",
       "      <th>soup</th>\n",
       "    </tr>\n",
       "  </thead>\n",
       "  <tbody>\n",
       "    <tr>\n",
       "      <th>0</th>\n",
       "      <td>letsfightghost</td>\n",
       "      <td>crime</td>\n",
       "      <td>comedyprogrammes,romantictvcomedies,horrorprog...</td>\n",
       "      <td>linaleandersson,kårehedebrant,perragnar,henrik...</td>\n",
       "      <td>r</td>\n",
       "      <td>crime comedyprogrammes,romantictvcomedies,horr...</td>\n",
       "    </tr>\n",
       "    <tr>\n",
       "      <th>1</th>\n",
       "      <td>howtobuildagirl</td>\n",
       "      <td>comedy</td>\n",
       "      <td>dramas,comedies,filmsbasedonbooks,british</td>\n",
       "      <td>cleo,paddyconsidine,beaniefeldstein,dónalfinn</td>\n",
       "      <td>r</td>\n",
       "      <td>comedy dramas,comedies,filmsbasedonbooks,briti...</td>\n",
       "    </tr>\n",
       "  </tbody>\n",
       "</table>\n",
       "</div>"
      ],
      "text/plain": [
       "             Title   Genre                                               Tags  \\\n",
       "0   letsfightghost   crime  comedyprogrammes,romantictvcomedies,horrorprog...   \n",
       "1  howtobuildagirl  comedy          dramas,comedies,filmsbasedonbooks,british   \n",
       "\n",
       "                                              Actors ViewerRating  \\\n",
       "0  linaleandersson,kårehedebrant,perragnar,henrik...            r   \n",
       "1      cleo,paddyconsidine,beaniefeldstein,dónalfinn            r   \n",
       "\n",
       "                                                soup  \n",
       "0  crime comedyprogrammes,romantictvcomedies,horr...  \n",
       "1  comedy dramas,comedies,filmsbasedonbooks,briti...  "
      ]
     },
     "execution_count": 48,
     "metadata": {},
     "output_type": "execute_result"
    }
   ],
   "source": [
    "selected_data.reset_index(inplace = True)\n",
    "selected_data.head(2)"
   ]
  },
  {
   "cell_type": "code",
   "execution_count": 49,
   "metadata": {},
   "outputs": [
    {
     "data": {
      "text/plain": [
       "Title\n",
       "letsfightghost                              0\n",
       "howtobuildagirl                             1\n",
       "thecon-heartist                             2\n",
       "glebokawoda                                 3\n",
       "onlyamother                                 4\n",
       "                                         ... \n",
       "13goingon30                              9127\n",
       "life2.0                                  9128\n",
       "brandnewday                              9129\n",
       "danielarends:blessuretijd                9130\n",
       "dreamworkshappyholidaysfrommadagascar    9131\n",
       "Length: 9132, dtype: int64"
      ]
     },
     "execution_count": 49,
     "metadata": {},
     "output_type": "execute_result"
    }
   ],
   "source": [
    "indices = pd.Series(selected_data.index, index=selected_data['Title'])\n",
    "indices"
   ]
  },
  {
   "cell_type": "code",
   "execution_count": 50,
   "metadata": {},
   "outputs": [],
   "source": [
    "result = 0\n",
    "def get_recommendations(title, cosine_sim):\n",
    "    global result\n",
    "    title=title.replace(' ','').lower()\n",
    "    idx = indices[title]\n",
    "    # Get the pairwsie similarity scores of all movies with that movie\n",
    "    sim_scores = list(enumerate(cosine_sim[idx]))\n",
    "    # Sort the movies based on the similarity scores\n",
    "    sim_scores = sorted(sim_scores, key=lambda x: x[1], reverse=True)\n",
    "    # Get the scores of the 50 most similar movies\n",
    "    sim_scores = sim_scores[1:51]\n",
    "    # Get the movie indices\n",
    "    movie_indices = [i[0] for i in sim_scores]\n",
    "    # Return the top 10 most similar movies\n",
    "    result =  netflix_data.iloc[movie_indices]\n",
    "    result.reset_index(inplace = True)\n",
    "    return result"
   ]
  },
  {
   "cell_type": "code",
   "execution_count": 51,
   "metadata": {},
   "outputs": [],
   "source": [
    "df = pd.DataFrame()\n",
    "movienames = ['Annabelle Comes Home','The Nun', 'Insidious: The Last Key', 'Conjuring 2', 'Insidious: Chapter 3']\n",
    "languages = ['English', 'Hindi']\n",
    "for moviename in movienames:\n",
    "    get_recommendations(moviename,cosine_sim2)\n",
    "    for language in languages:\n",
    "        df = pd.concat([result[result['Languages'].str.count(language) > 0], df], ignore_index=True)\n",
    "df.drop_duplicates(keep = 'first', inplace = True)\n",
    "df.sort_values(by = 'IMDb Score', ascending = False, inplace = True)"
   ]
  },
  {
   "cell_type": "code",
   "execution_count": 52,
   "metadata": {},
   "outputs": [
    {
     "name": "stdout",
     "output_type": "stream",
     "text": [
      "(126, 22)\n",
      "             Title   Genre                                               Tags  \\\n",
      "118     The Others  Horror  20th Century Period Pieces,Thrillers,Mysteries...   \n",
      "145  A Quiet Place   Drama  Horror Movies,Thrillers,Critically-acclaimed M...   \n",
      "51   The Conjuring  Horror  Horror Films,Thrillers,Supernatural Horror Fil...   \n",
      "224       Suspiria  Horror  International Movies,Critically-acclaimed Movi...   \n",
      "45           Split  Horror  Psychological Thrillers,Horror Movies,Thriller...   \n",
      "\n",
      "                                    Languages  \\\n",
      "118                                   English   \n",
      "145           American Sign Language, English   \n",
      "51                             English, Latin   \n",
      "224  Italian, Russian, English, German, Latin   \n",
      "45                                    English   \n",
      "\n",
      "                                  Country Availability   Runtime  \\\n",
      "118  Italy,Sweden,Switzerland,Turkey,Iceland,India,...  1-2 hour   \n",
      "145                  Iceland,Argentina,Mexico,Colombia  1-2 hour   \n",
      "51   France,Belgium,Lithuania,Switzerland,United Ki...  1-2 hour   \n",
      "224                                              Italy  1-2 hour   \n",
      "45   Belgium,Netherlands,South Korea,Poland,France,...  1-2 hour   \n",
      "\n",
      "               Director                                   Writer  \\\n",
      "118  Alejandro Amenábar                       Alejandro Amenábar   \n",
      "145      John Krasinski  John Krasinski, Scott Beck, Bryan Woods   \n",
      "51            James Wan               Chad Hayes, Carey W. Hayes   \n",
      "224       Dario Argento            Daria Nicolodi, Dario Argento   \n",
      "45   M. Night Shyamalan                       M. Night Shyamalan   \n",
      "\n",
      "                                                Actors ViewerRating  ...  \\\n",
      "118  Alakina Mann, Christopher Eccleston, Fionnula ...        PG-13  ...   \n",
      "145  John Krasinski, Millicent Simmonds, Emily Blun...        PG-13  ...   \n",
      "51   Vera Farmiga, Lili Taylor, Ron Livingston, Pat...            R  ...   \n",
      "224  Jessica Harper, Miguel Bosé, Stefania Casini, ...            R  ...   \n",
      "45   Haley Lu Richardson, James McAvoy, Anya Taylor...        PG-13  ...   \n",
      "\n",
      "     Awards Nominated For      Boxoffice  Release Date Netflix Release Date  \\\n",
      "118                  55.0   $9,65,22,687     10-Aug-01           14-04-2015   \n",
      "145                 114.0  $18,80,24,361     06-Apr-18           02-01-2019   \n",
      "51                   22.0  $13,74,00,141     19-Jul-13           14-04-2015   \n",
      "224                   3.0            NaN     12-Aug-77           01-12-2018   \n",
      "45                   23.0  $13,82,91,365     20-Jan-17           17-09-2018   \n",
      "\n",
      "                                      Production House  \\\n",
      "118  Lucky Red, Miramax Films, Sogecine, Cruise-Wag...   \n",
      "145                       Sunday Night, Platinum Dunes   \n",
      "51               Safran Company, Evergreen Media Group   \n",
      "224                                                NaN   \n",
      "45   Lightning Entertainment, Blinding Edge Picture...   \n",
      "\n",
      "                               Netflix Link  \\\n",
      "118  https://www.netflix.com/watch/60021097   \n",
      "145  https://www.netflix.com/watch/80213226   \n",
      "51   https://www.netflix.com/watch/70251894   \n",
      "224  https://www.netflix.com/watch/60037424   \n",
      "45   https://www.netflix.com/watch/80124506   \n",
      "\n",
      "                                               Summary Series or Movie  \\\n",
      "118  While awaiting the return of her soldier husba...           Movie   \n",
      "145  Cut off from the rest of the world, a tight-kn...           Movie   \n",
      "51   Based on true events, this spine-chiller tells...           Movie   \n",
      "224  A naive American girl enrolled in an illustrio...           Movie   \n",
      "45   A man with multiple identities abducts three t...           Movie   \n",
      "\n",
      "    IMDb Votes                                              Image  \n",
      "118   338889.0  https://occ-0-3377-185.1.nflxso.net/dnm/api/v6...  \n",
      "145   410706.0  https://occ-0-1926-41.1.nflxso.net/dnm/api/v6/...  \n",
      "51    443192.0  https://occ-0-2851-38.1.nflxso.net/dnm/api/v6/...  \n",
      "224    80890.0  https://occ-0-784-778.1.nflxso.net/dnm/api/v6/...  \n",
      "45    428760.0  https://occ-0-768-769.1.nflxso.net/dnm/api/v6/...  \n",
      "\n",
      "[5 rows x 22 columns]\n"
     ]
    }
   ],
   "source": [
    "print(df.shape)\n",
    "print(df.head())"
   ]
  },
  {
   "cell_type": "code",
   "execution_count": null,
   "metadata": {},
   "outputs": [],
   "source": []
  }
 ],
 "metadata": {
  "kernelspec": {
   "display_name": "Python 3",
   "language": "python",
   "name": "python3"
  },
  "language_info": {
   "codemirror_mode": {
    "name": "ipython",
    "version": 3
   },
   "file_extension": ".py",
   "mimetype": "text/x-python",
   "name": "python",
   "nbconvert_exporter": "python",
   "pygments_lexer": "ipython3",
   "version": "3.12.3"
  },
  "orig_nbformat": 4
 },
 "nbformat": 4,
 "nbformat_minor": 2
}
